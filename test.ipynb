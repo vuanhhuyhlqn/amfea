{
 "cells": [
  {
   "cell_type": "code",
   "execution_count": 4,
   "id": "62bd74ef",
   "metadata": {},
   "outputs": [
    {
     "name": "stdout",
     "output_type": "stream",
     "text": [
      "The autoreload extension is already loaded. To reload it, use:\n",
      "  %reload_ext autoreload\n"
     ]
    }
   ],
   "source": [
    "%load_ext autoreload\n",
    "%autoreload 2\n",
    "import numpy as np\n",
    "import pickle\n",
    "import os\n",
    "from mutation import *\n",
    "from crossover import *\n",
    "from rmp import *\n",
    "from mfea import *\n",
    "from task import *\n",
    "from llm import *\n",
    "import matplotlib.pyplot as plt"
   ]
  },
  {
   "cell_type": "code",
   "execution_count": 5,
   "id": "24701637",
   "metadata": {},
   "outputs": [],
   "source": [
    "gnbg_tasks = []\n",
    "gnbg_tasks.append(GNBGTask(1, 100))\n",
    "gnbg_tasks.append(GNBGTask(2, 100))\n",
    "gnbg_tasks.append(GNBGTask(3, 100))\n",
    "gnbg_tasks.append(GNBGTask(4, 100))\n",
    "gnbg_tasks.append(GNBGTask(5, 100))"
   ]
  },
  {
   "cell_type": "code",
   "execution_count": 6,
   "id": "1242be84",
   "metadata": {},
   "outputs": [
    {
     "name": "stdout",
     "output_type": "stream",
     "text": [
      "sk-505a4ff57cfb432d8888a3d8d66a3133\n"
     ]
    }
   ],
   "source": [
    "\n",
    "API_KEY = os.getenv(\"DEEPSEEK_API_KEY\")\n",
    "print(API_KEY)\n"
   ]
  },
  {
   "cell_type": "code",
   "execution_count": 7,
   "id": "996fca4f",
   "metadata": {},
   "outputs": [],
   "source": [
    "np.random.seed(0)"
   ]
  },
  {
   "cell_type": "code",
   "execution_count": 8,
   "id": "ff17d230",
   "metadata": {},
   "outputs": [],
   "source": [
    "mutation = PolynomialMutation(5, 0.02)\n",
    "crossover = SBXCrossover(mutation)"
   ]
  },
  {
   "cell_type": "code",
   "execution_count": 9,
   "id": "f6679ed7",
   "metadata": {},
   "outputs": [],
   "source": [
    "def rmp_matrix_to_array(rmp_matrix, p1_skill_factor, p2_skill_factor):\n",
    "    return rmp_matrix[p1_skill_factor, p2_skill_factor]"
   ]
  },
  {
   "cell_type": "code",
   "execution_count": 10,
   "id": "a9f72150",
   "metadata": {},
   "outputs": [
    {
     "name": "stdout",
     "output_type": "stream",
     "text": [
      "PI_L\n"
     ]
    }
   ],
   "source": [
    "cec2017_tasks = get_2_tasks(5)\n"
   ]
  },
  {
   "cell_type": "code",
   "execution_count": 11,
   "id": "e2ea6980",
   "metadata": {},
   "outputs": [
    {
     "name": "stdout",
     "output_type": "stream",
     "text": [
      "2\n"
     ]
    }
   ],
   "source": [
    "print(len(cec2017_tasks))"
   ]
  },
  {
   "cell_type": "code",
   "execution_count": 28,
   "id": "64e33e26",
   "metadata": {},
   "outputs": [],
   "source": [
    "p1 = np.random.uniform(size=(10, 50))\n",
    "p2 = np.random.uniform(size=(10, 50))\n",
    "p1_skill_factor = np.random.randint(0, 2, size=10)\n",
    "p2_skill_factor = np.random.randint(0, 2, size=10)\n",
    "p1_fitness = np.random.uniform(size=10)\n",
    "p2_fitness = np.random.uniform(size=10)\n",
    "rmp = np.full(shape=(2, 2), fill_value=0.3)\n",
    "off, off_skill_factor, off_fitness = crossover(rmp, p1, p2, p1_skill_factor, p2_skill_factor, p1_fitness, p2_fitness, cec2017_tasks, eval=False)"
   ]
  },
  {
   "cell_type": "code",
   "execution_count": 29,
   "id": "70978029",
   "metadata": {},
   "outputs": [
    {
     "name": "stdout",
     "output_type": "stream",
     "text": [
      "Initialization:\n",
      "Task 0:\n",
      "Best Fitness: 31087.682014678012\n",
      "Mean Fitness: 42356.708447059005\n",
      "\n",
      "Task 1:\n",
      "Best Fitness: 107065.61500623611\n",
      "Mean Fitness: 177435.8641183864\n",
      "\n"
     ]
    }
   ],
   "source": [
    "num_indis_per_task = 100\n",
    "indi_len = 50\n",
    "mutation = PolynomialMutation(5, 0.02)\n",
    "crossover = SBXCrossover(mutation, eta=2)\n",
    "# crossover = BLXCrossover()\n",
    "rmp = NormalRMP(0.3)\n",
    "\n",
    "amfea = AMFEA(num_indis_per_task,\n",
    "              indi_len,\n",
    "              cec2017_tasks,\n",
    "              crossover,\n",
    "              mutation,\n",
    "              rmp)"
   ]
  },
  {
   "cell_type": "code",
   "execution_count": 30,
   "id": "6a667e50",
   "metadata": {
    "scrolled": true
   },
   "outputs": [
    {
     "name": "stdout",
     "output_type": "stream",
     "text": [
      "Gen 0\n",
      "Evaluation count: 0\n",
      "Task 0, Best: 21063.674152758187, Avg: 33789.78584094434\n",
      "Task 1, Best: 72552.05231130493, Avg: 138904.1274622957\n",
      "Time taken each gen: 0.0060 seconds\n",
      "\n",
      "Gen 100\n",
      "Evaluation count: 0\n",
      "Task 0, Best: 1513.3876244332848, Avg: 1517.8143574599824\n",
      "Task 1, Best: 2152.624826615446, Avg: 2379.5360983734868\n",
      "Time taken each gen: 0.0323 seconds\n",
      "\n",
      "Gen 200\n",
      "Evaluation count: 0\n",
      "Task 0, Best: 1462.6638060773855, Avg: 1466.1415689046655\n",
      "Task 1, Best: 521.7755590364667, Avg: 543.563642554824\n",
      "Time taken each gen: 0.0335 seconds\n",
      "\n",
      "Gen 300\n",
      "Evaluation count: 0\n",
      "Task 0, Best: 1385.2657247148352, Avg: 1385.4131218095235\n",
      "Task 1, Best: 194.2061063259601, Avg: 202.96018964342173\n",
      "Time taken each gen: 0.0392 seconds\n",
      "\n",
      "Gen 400\n",
      "Evaluation count: 0\n",
      "Task 0, Best: 1336.637450855934, Avg: 1337.325339999686\n",
      "Task 1, Best: 73.12867098222813, Avg: 73.87704905131216\n",
      "Time taken each gen: 0.0337 seconds\n",
      "\n",
      "Gen 500\n",
      "Evaluation count: 0\n",
      "Task 0, Best: 1296.1639200230597, Avg: 1302.4856780698055\n",
      "Task 1, Best: 36.44771413250447, Avg: 37.511727418231764\n",
      "Time taken each gen: 0.0318 seconds\n",
      "\n",
      "Gen 600\n",
      "Evaluation count: 0\n",
      "Task 0, Best: 1281.882506391843, Avg: 1281.8958935109506\n",
      "Task 1, Best: 19.91506174000628, Avg: 20.077281885350736\n",
      "Time taken each gen: 0.0333 seconds\n",
      "\n",
      "Gen 700\n",
      "Evaluation count: 0\n",
      "Task 0, Best: 1262.632392177065, Avg: 1262.7106502719807\n",
      "Task 1, Best: 11.01502769474091, Avg: 11.273908170081457\n",
      "Time taken each gen: 0.0325 seconds\n",
      "\n",
      "Gen 800\n",
      "Evaluation count: 0\n",
      "Task 0, Best: 1256.2726851967175, Avg: 1256.272753973445\n",
      "Task 1, Best: 7.862375114722631, Avg: 7.90593907923038\n",
      "Time taken each gen: 0.0328 seconds\n",
      "\n",
      "Gen 900\n",
      "Evaluation count: 0\n",
      "Task 0, Best: 1249.5357100097658, Avg: 1249.5399834797852\n",
      "Task 1, Best: 3.48042640622582, Avg: 3.796205011069506\n",
      "Time taken each gen: 0.0363 seconds\n",
      "\n",
      "Gen 1000\n",
      "Evaluation count: 0\n",
      "Task 0, Best: 1247.6311527401895, Avg: 1247.8466364990945\n",
      "Task 1, Best: 2.492950406112284, Avg: 2.5084421046311127\n",
      "Time taken each gen: 0.0328 seconds\n",
      "\n"
     ]
    }
   ],
   "source": [
    "bfs, mfs = amfea.fit(num_gen=1000, monitor=True, monitor_rate=100)"
   ]
  },
  {
   "cell_type": "code",
   "execution_count": 149,
   "id": "901bc2d4",
   "metadata": {},
   "outputs": [
    {
     "name": "stdout",
     "output_type": "stream",
     "text": [
      "-1081.9837994003399\n",
      "-703.1328146165181\n",
      "-357.5797495903721\n",
      "-382.6205211774271\n",
      "-337.50899809752036\n"
     ]
    }
   ],
   "source": [
    "for task in gnbg_tasks:\n",
    "    print(task.gnbg.OptimumValue)"
   ]
  },
  {
   "cell_type": "code",
   "execution_count": 90,
   "id": "24a6afef",
   "metadata": {},
   "outputs": [
    {
     "name": "stdout",
     "output_type": "stream",
     "text": [
      "0.9999784003327589\n"
     ]
    }
   ],
   "source": [
    "print(np.max(amfea.pop))"
   ]
  },
  {
   "cell_type": "code",
   "execution_count": 120,
   "id": "88fdd99b",
   "metadata": {},
   "outputs": [],
   "source": [
    "dim = 50"
   ]
  },
  {
   "cell_type": "code",
   "execution_count": 121,
   "id": "f0181778",
   "metadata": {},
   "outputs": [],
   "source": [
    "x_test = np.random.uniform(0, 1, size=dim)"
   ]
  },
  {
   "cell_type": "code",
   "execution_count": 122,
   "id": "3aad6bff",
   "metadata": {},
   "outputs": [
    {
     "name": "stdout",
     "output_type": "stream",
     "text": [
      "[0.85907482 0.94008339 0.50785754 0.72509466 0.06625432 0.66633294\n",
      " 0.74234832 0.90374985 0.23927356 0.32128177 0.31552997 0.67909715\n",
      " 0.43332934 0.98120044 0.2745511  0.60376838 0.85184482 0.19065958\n",
      " 0.6426098  0.40787485 0.20654012 0.13219135 0.41308363 0.54744061\n",
      " 0.57048436 0.42555876 0.19406744 0.27179178 0.297762   0.11140318\n",
      " 0.45006828 0.16531338 0.92069788 0.88879073 0.44608596 0.23528611\n",
      " 0.58133187 0.71235906 0.17826929 0.45866792 0.01148249 0.91859941\n",
      " 0.35862434 0.36346905 0.90740653 0.8934829  0.99067995 0.27788791\n",
      " 0.08522302 0.15000237]\n"
     ]
    }
   ],
   "source": [
    "print(x_test)"
   ]
  },
  {
   "cell_type": "code",
   "execution_count": 124,
   "id": "6aad89ee",
   "metadata": {},
   "outputs": [
    {
     "name": "stdout",
     "output_type": "stream",
     "text": [
      "[165305.05004158]\n",
      "[500797.26552413]\n",
      "[469812.83455903]\n",
      "[52.41419773]\n",
      "[5.98007733e+09]\n",
      "[21.6372491]\n",
      "[96.7504262]\n",
      "[18339.88464123]\n",
      "[137.7442226]\n",
      "[106369.7608199]\n"
     ]
    }
   ],
   "source": [
    "super_tasks = get_10_tasks()\n",
    "for task in super_tasks:\n",
    "    print(task.fitness(np.array([x_test])))"
   ]
  },
  {
   "cell_type": "code",
   "execution_count": null,
   "id": "34306292",
   "metadata": {},
   "outputs": [],
   "source": [
    "165305.0500415824\n",
    "500797.2655241336\n",
    "469812.83455903106\n",
    "52.41419772668738\n",
    "5980077333.781868\n",
    "21.637249102506384\n",
    "96.75042619986894\n",
    "18339.884641225744\n",
    "137.74422260305982\n",
    "106369.76081990033"
   ]
  },
  {
   "cell_type": "code",
   "execution_count": 125,
   "id": "b24c064a",
   "metadata": {},
   "outputs": [],
   "source": [
    "with open('x_test.pkl', 'wb') as f:\n",
    "    pickle.dump(x_test, f)\n",
    "f.close()"
   ]
  },
  {
   "cell_type": "code",
   "execution_count": 39,
   "id": "4d701a00",
   "metadata": {},
   "outputs": [],
   "source": [
    "n = 4\n",
    "dim = 5\n",
    "p = np.random.uniform(0, 1, size=(n, dim))\n",
    "skill_factor = np.random.randint(0, 2, size=n)"
   ]
  },
  {
   "cell_type": "code",
   "execution_count": 40,
   "id": "14d26f60",
   "metadata": {},
   "outputs": [],
   "source": [
    "mean = np.zeros((2, dim))"
   ]
  },
  {
   "cell_type": "code",
   "execution_count": 49,
   "id": "1b918dfa",
   "metadata": {},
   "outputs": [
    {
     "name": "stdout",
     "output_type": "stream",
     "text": [
      "[[0.9312767  0.83727121 0.12451126 0.27192389 0.99756742]\n",
      " [0.27769765 0.06069361 0.84285459 0.85331673 0.66851232]]\n",
      "[0.60448718 0.44898241 0.48368293 0.56262031 0.83303987]\n",
      "[[0.2486302  0.37827109 0.55353126 0.54334964 0.86687774]\n",
      " [0.10331157 0.12251464 0.15755651 0.06655269 0.25442498]]\n",
      "[0.17597088 0.25039286 0.35554388 0.30495116 0.56065136]\n"
     ]
    }
   ],
   "source": [
    "for task_id in range(2):\n",
    "    task_mask = skill_factor == task_id\n",
    "    g = p[task_mask]\n",
    "    print(g)\n",
    "    mean[task_id] = np.mean(g, axis=0)\n",
    "    print(mean[task_id])\n"
   ]
  },
  {
   "cell_type": "code",
   "execution_count": 45,
   "id": "f55f99f7",
   "metadata": {},
   "outputs": [],
   "source": [
    "var = np.zeros((2, dim))"
   ]
  },
  {
   "cell_type": "code",
   "execution_count": 48,
   "id": "90f4c9ec",
   "metadata": {},
   "outputs": [
    {
     "name": "stdout",
     "output_type": "stream",
     "text": [
      "[[0.9312767  0.83727121 0.12451126 0.27192389 0.99756742]\n",
      " [0.27769765 0.06069361 0.84285459 0.85331673 0.66851232]]\n",
      "[0.10679139 0.15076819 0.12900428 0.08450441 0.02706931]\n",
      "[[0.2486302  0.37827109 0.55353126 0.54334964 0.86687774]\n",
      " [0.10331157 0.12251464 0.15755651 0.06655269 0.25442498]]\n",
      "[0.00527938 0.01635284 0.039199   0.05683383 0.09377459]\n"
     ]
    }
   ],
   "source": [
    "for task_id in range(2):\n",
    "    task_mask = skill_factor == task_id\n",
    "    g = p[task_mask]\n",
    "    print(g)\n",
    "    mean[task_id] = np.var(g, axis=0)\n",
    "    print(mean[task_id])"
   ]
  },
  {
   "cell_type": "code",
   "execution_count": 23,
   "id": "80117b62",
   "metadata": {},
   "outputs": [],
   "source": [
    "x1 = np.random.randint(5, 10, size=50)\n",
    "x2 = np.random.randint(1, 5, size=50)"
   ]
  },
  {
   "cell_type": "code",
   "execution_count": 24,
   "id": "a85a5924",
   "metadata": {},
   "outputs": [
    {
     "name": "stdout",
     "output_type": "stream",
     "text": [
      "[5 5 7 5 9 8 9 7 9 9 9 5 5 7 5 9 8 7 7 9 7 9 5 9 9 8 7 9 6 5 7 9 8 9 7 7 6\n",
      " 9 6 5 7 8 6 9 7 5 6 6 9 6]\n",
      "[1 4 1 2 3 4 1 2 1 2 3 1 2 3 4 1 1 1 2 4 4 2 4 2 2 2 1 1 1 1 3 3 2 3 3 1 4\n",
      " 3 1 4 2 1 4 3 3 4 3 2 2 4]\n"
     ]
    }
   ],
   "source": [
    "print(x1)\n",
    "print(x2)"
   ]
  },
  {
   "cell_type": "code",
   "execution_count": 25,
   "id": "fb49edd6",
   "metadata": {},
   "outputs": [
    {
     "name": "stdout",
     "output_type": "stream",
     "text": [
      "[80.         20.         85.71428571 60.         66.66666667 50.\n",
      " 88.88888889 71.42857143 88.88888889 77.77777778 66.66666667 80.\n",
      " 60.         57.14285714 20.         88.88888889 87.5        85.71428571\n",
      " 71.42857143 55.55555556 42.85714286 77.77777778 20.         77.77777778\n",
      " 77.77777778 75.         85.71428571 88.88888889 83.33333333 80.\n",
      " 57.14285714 66.66666667 75.         66.66666667 57.14285714 85.71428571\n",
      " 33.33333333 66.66666667 83.33333333 20.         71.42857143 87.5\n",
      " 33.33333333 66.66666667 57.14285714 20.         50.         66.66666667\n",
      " 77.77777778 33.33333333]\n"
     ]
    }
   ],
   "source": [
    "diff = x1 - x2\n",
    "diff_percentage = (diff / x1) * 100\n",
    "print(diff_percentage)"
   ]
  },
  {
   "cell_type": "code",
   "execution_count": 26,
   "id": "7f702584",
   "metadata": {},
   "outputs": [],
   "source": [
    "total_performance_diff = np.sum(diff_percentage)"
   ]
  },
  {
   "cell_type": "code",
   "execution_count": 27,
   "id": "82070a24",
   "metadata": {},
   "outputs": [
    {
     "data": {
      "text/plain": [
       "np.float64(64.93809523809524)"
      ]
     },
     "execution_count": 27,
     "metadata": {},
     "output_type": "execute_result"
    }
   ],
   "source": [
    "total_performance_diff / 50"
   ]
  }
 ],
 "metadata": {
  "kernelspec": {
   "display_name": "Python 3 (ipykernel)",
   "language": "python",
   "name": "python3"
  },
  "language_info": {
   "codemirror_mode": {
    "name": "ipython",
    "version": 3
   },
   "file_extension": ".py",
   "mimetype": "text/x-python",
   "name": "python",
   "nbconvert_exporter": "python",
   "pygments_lexer": "ipython3",
   "version": "3.9.12"
  }
 },
 "nbformat": 4,
 "nbformat_minor": 5
}
