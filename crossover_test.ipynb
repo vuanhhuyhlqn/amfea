{
 "cells": [
  {
   "cell_type": "code",
   "execution_count": 1,
   "id": "024c6578",
   "metadata": {},
   "outputs": [],
   "source": [
    "%load_ext autoreload\n",
    "%autoreload 2\n",
    "import numpy as np\n",
    "import pickle\n",
    "from mutation import *\n",
    "from crossover import *\n",
    "from rmp import *\n",
    "from mfea import *\n",
    "from task import *\n",
    "from llm import *\n",
    "import matplotlib.pyplot as plt\n",
    "from dotenv import load_dotenv\n",
    "import os"
   ]
  },
  {
   "cell_type": "code",
   "execution_count": 2,
   "id": "fcf7678e",
   "metadata": {},
   "outputs": [],
   "source": [
    "m = PolynomialMutation(5, 0.02)\n",
    "c = TSPCrossover(m)"
   ]
  },
  {
   "cell_type": "code",
   "execution_count": 3,
   "id": "8f1938b9",
   "metadata": {},
   "outputs": [],
   "source": [
    "tsp_tasks = [TSPTask('gr17'), TSPTask('eil51'), TSPTask('gr48'), TSPTask('gr24')]"
   ]
  },
  {
   "cell_type": "code",
   "execution_count": 16,
   "id": "d70ffad3",
   "metadata": {},
   "outputs": [],
   "source": [
    "n = 3\n",
    "dim = 10\n",
    "rmp_matrix = np.full(shape=(4, 4), fill_value=0.3)\n",
    "p1 = np.random.uniform(0, 1, size=(n, dim))\n",
    "p2 = np.random.uniform(0, 1, size=(n, dim))\n",
    "p1_skill_factor = np.random.randint(0, 4, size=n)\n",
    "p2_skill_factor = np.random.randint(0, 4, size=n)\n",
    "p1_fitness = np.random.uniform(0, 100, size=n)\n",
    "p2_fitness = np.random.uniform(0, 100, size=n)"
   ]
  },
  {
   "cell_type": "code",
   "execution_count": 22,
   "id": "4b677779",
   "metadata": {},
   "outputs": [],
   "source": [
    "o, oskf, of = c(rmp_matrix, p1, p2, p1_skill_factor, p2_skill_factor, p1_fitness, p2_fitness, tsp_tasks)"
   ]
  },
  {
   "cell_type": "code",
   "execution_count": 24,
   "id": "e9c31b4a",
   "metadata": {},
   "outputs": [
    {
     "name": "stdout",
     "output_type": "stream",
     "text": [
      "[[0.55949317 0.79300796 0.00245186 0.13419676 0.49458631 0.16047769\n",
      "  0.34631645 0.51074712 0.70188803 0.97971156]\n",
      " [0.84006258 0.99943245 0.05584151 0.14420578 0.45651417 0.65947388\n",
      "  0.82115513 0.35208118 0.13769163 0.51499096]\n",
      " [0.54155998 0.10193981 0.21991242 0.40992471 0.88253577 0.02223518\n",
      "  0.60326996 0.91022895 0.46880058 0.77977829]]\n"
     ]
    }
   ],
   "source": [
    "print(p1)"
   ]
  },
  {
   "cell_type": "code",
   "execution_count": 25,
   "id": "8ea919b0",
   "metadata": {},
   "outputs": [
    {
     "name": "stdout",
     "output_type": "stream",
     "text": [
      "[[0.2815119  0.20784884 0.5572951  0.4655818  0.70281378 0.96682931\n",
      "  0.83711101 0.25595683 0.27024351 0.12637111]\n",
      " [0.29554252 0.34483488 0.9810251  0.55844664 0.49834847 0.88369749\n",
      "  0.13830264 0.76745133 0.38497534 0.39868144]\n",
      " [0.70355484 0.98581964 0.71119174 0.42559625 0.12538229 0.50027061\n",
      "  0.05006589 0.30679994 0.53700597 0.75600351]]\n"
     ]
    }
   ],
   "source": [
    "print(p2)"
   ]
  },
  {
   "cell_type": "code",
   "execution_count": 23,
   "id": "8cf3a928",
   "metadata": {},
   "outputs": [
    {
     "name": "stdout",
     "output_type": "stream",
     "text": [
      "[[0.70355484 0.10193981 0.21991242 0.40992471 0.12538229 0.50027061\n",
      "  0.05006589 0.91022895 0.46880058 0.77977829]\n",
      " [0.54155998 0.98581964 0.71119174 0.42559625 0.88253577 0.50027061\n",
      "  0.60326996 0.91022895 0.53700597 0.75600351]\n",
      " [0.55949317 0.79300796 0.00245186 0.13419676 0.49458631 0.16047769\n",
      "  0.34631645 0.51074712 0.67052634 0.97971156]\n",
      " [0.84006258 0.99943245 0.05584151 0.14420578 0.45651417 0.65947388\n",
      "  0.82115513 0.35208118 0.13769163 0.51499096]\n",
      " [0.2815119  0.20784884 0.5572951  0.4655818  0.70281378 0.96682931\n",
      "  0.83711101 0.25595683 0.27024351 0.12637111]\n",
      " [0.29554252 0.34483488 0.9810251  0.55844664 0.49834847 0.88369749\n",
      "  0.13830264 0.76745133 0.38497534 0.39868144]]\n"
     ]
    }
   ],
   "source": [
    "print(o)"
   ]
  },
  {
   "cell_type": "code",
   "execution_count": 80,
   "id": "2c9e4618",
   "metadata": {},
   "outputs": [
    {
     "name": "stdout",
     "output_type": "stream",
     "text": [
      "2\n"
     ]
    }
   ],
   "source": [
    "print(len(u))"
   ]
  },
  {
   "cell_type": "code",
   "execution_count": 81,
   "id": "dbd3cd33",
   "metadata": {},
   "outputs": [
    {
     "name": "stdout",
     "output_type": "stream",
     "text": [
      "(2, 50)\n"
     ]
    }
   ],
   "source": [
    "print(u.shape)"
   ]
  },
  {
   "cell_type": "code",
   "execution_count": 82,
   "id": "82e59b97",
   "metadata": {},
   "outputs": [],
   "source": [
    "def cr(gene_pa, gene_pb, swap, dim_uss, nc, ux):\n",
    "    u = ux\n",
    "    beta = np.where(u < 0.5, (2*u)**(1/(nc +1)), (2 * (1 - u))**(-1 / (nc + 1)))\n",
    "\n",
    "    #like pa\n",
    "    gene_oa = np.clip(0.5*((1 + beta) * gene_pa + (1 - beta) * gene_pb), 0, 1)\n",
    "    #like pb\n",
    "    gene_ob = np.clip(0.5*((1 - beta) * gene_pa + (1 + beta) * gene_pb), 0, 1)\n",
    "\n",
    "    #swap\n",
    "    if swap:\n",
    "        idx_swap = np.where(np.random.rand(dim_uss) < 0.5)[0]\n",
    "        gene_oa[idx_swap], gene_ob[idx_swap] = gene_ob[idx_swap], gene_oa[idx_swap]\n",
    "\n",
    "    return gene_oa, gene_ob"
   ]
  },
  {
   "cell_type": "code",
   "execution_count": 83,
   "id": "ce9f8110",
   "metadata": {},
   "outputs": [
    {
     "name": "stdout",
     "output_type": "stream",
     "text": [
      "[0.51761241 0.09790214 0.67709104 0.25516199 0.89959801 1.\n",
      " 0.19197792 0.73327738 0.94802124 1.         0.41387039 0.66792554\n",
      " 0.86726813 0.72808006 1.         0.84345566 0.15307074 0.93190061\n",
      " 0.02828891 0.39342851 0.15161217 0.40100618 0.10423734 0.34309021\n",
      " 0.31576983 0.38311217 0.93156044 0.68760922 0.11902623 0.56600219\n",
      " 0.34651245 0.09455098 0.97277602 0.61120568 0.42254827 0.10214125\n",
      " 0.33281933 0.20452992 0.53697726 0.87126585 0.0576112  1.\n",
      " 0.67485045 0.33091748 0.75001843 0.33578743 0.77508403 0.62547816\n",
      " 0.67440792 0.32790255]\n",
      "[0.543722   0.22803155 0.49717861 0.10816648 0.52065364 0.16725192\n",
      " 0.76234938 1.         0.34999385 0.17993624 0.63468536 0.85503322\n",
      " 0.99682341 0.5619662  0.94074129 0.         0.54538706 0.01232345\n",
      " 0.0842424  0.67968232 0.7532074  0.32343344 0.33922261 0.52742923\n",
      " 1.         0.62819704 0.2308561  0.62638445 0.32975083 0.07519536\n",
      " 0.43787505 0.0708185  0.02070045 1.         0.22875195 0.07393276\n",
      " 0.82559094 1.         0.30134521 0.         0.48364654 0.54818234\n",
      " 0.56752793 0.90121255 0.8636105  0.24308303 0.78610836 1.\n",
      " 0.75097613 0.39567026]\n",
      "[0.44510588 0.6950597  0.7625344  0.28458259 0.24444571 0.37119028\n",
      " 0.92352673 0.27656574 0.66956856 0.82558304 0.62713749 0.25866936\n",
      " 0.88685974 0.42814337 0.95144274 0.07430344 0.44906567 0.84442841\n",
      " 0.24044186 0.         0.59276037 0.51785114 0.         0.07286875\n",
      " 0.30369474 0.89090158 0.23976436 0.67354979 0.64059142 1.\n",
      " 0.19491243 0.87979304 0.36140257 0.1560163  0.18588647 0.60307052\n",
      " 0.72522512 0.83495744 0.58228581 0.26911676 0.85527539 0.64695473\n",
      " 0.61132091 1.         0.24875311 0.         0.65861216 0.70515997\n",
      " 0.13031136 0.40343266]\n",
      "[0.20171038 0.84223525 0.91035511 1.         0.10173868 0.44135086\n",
      " 0.00365064 0.54178788 0.0923177  0.19433948 0.76232802 0.33509804\n",
      " 0.20007713 0.69850494 0.         0.36553363 0.27038557 0.68651261\n",
      " 0.45316173 0.50266489 0.12334345 0.         0.32203016 0.67848132\n",
      " 0.26279967 0.8585791  0.26134325 0.92725219 0.60401368 0.\n",
      " 0.43329027 0.26041988 0.49951669 0.47854778 0.25161084 0.74568387\n",
      " 0.70709504 0.81114068 0.25428924 0.71217834 0.33397469 0.6684077\n",
      " 0.21543001 0.61007697 0.40340353 0.75283795 0.04751116 0.074742\n",
      " 0.11408139 0.0628805 ]\n"
     ]
    }
   ],
   "source": [
    "for i in range(len(u)):\n",
    "    for x in cr(p1[i], p2[i], dim_uss=50, swap=False, nc=2, ux=u[i]):\n",
    "        print(x)"
   ]
  }
 ],
 "metadata": {
  "kernelspec": {
   "display_name": "Python 3",
   "language": "python",
   "name": "python3"
  },
  "language_info": {
   "codemirror_mode": {
    "name": "ipython",
    "version": 3
   },
   "file_extension": ".py",
   "mimetype": "text/x-python",
   "name": "python",
   "nbconvert_exporter": "python",
   "pygments_lexer": "ipython3",
   "version": "3.9.12"
  }
 },
 "nbformat": 4,
 "nbformat_minor": 5
}
