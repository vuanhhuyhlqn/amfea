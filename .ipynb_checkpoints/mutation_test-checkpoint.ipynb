{
 "cells": [
  {
   "cell_type": "code",
   "execution_count": 100,
   "id": "70c6b6fd-1902-4a41-82ee-0ffe993b65ed",
   "metadata": {},
   "outputs": [
    {
     "ename": "ModuleNotFoundError",
     "evalue": "No module named 'mutation'",
     "output_type": "error",
     "traceback": [
      "\u001b[1;31m---------------------------------------------------------------------------\u001b[0m",
      "\u001b[1;31mModuleNotFoundError\u001b[0m                       Traceback (most recent call last)",
      "Cell \u001b[1;32mIn[100], line 5\u001b[0m\n\u001b[0;32m      3\u001b[0m \u001b[38;5;28;01mimport\u001b[39;00m\u001b[38;5;250m \u001b[39m\u001b[38;5;21;01mnumpy\u001b[39;00m\u001b[38;5;250m \u001b[39m\u001b[38;5;28;01mas\u001b[39;00m\u001b[38;5;250m \u001b[39m\u001b[38;5;21;01mnp\u001b[39;00m\n\u001b[0;32m      4\u001b[0m \u001b[38;5;28;01mimport\u001b[39;00m\u001b[38;5;250m \u001b[39m\u001b[38;5;21;01mpickle\u001b[39;00m\n\u001b[1;32m----> 5\u001b[0m \u001b[38;5;28;01mfrom\u001b[39;00m\u001b[38;5;250m \u001b[39m\u001b[38;5;21;01mmutation\u001b[39;00m\u001b[38;5;250m \u001b[39m\u001b[38;5;28;01mimport\u001b[39;00m \u001b[38;5;241m*\u001b[39m\n",
      "\u001b[1;31mModuleNotFoundError\u001b[0m: No module named 'mutation'"
     ]
    }
   ],
   "source": [
    "%load_ext autoreload\n",
    "%autoreload 2\n",
    "import numpy as np\n",
    "import pickle\n",
    "from mutation import *\n",
    "from crossover import *\n",
    "from rmp import *\n",
    "from mfea import *\n",
    "from task import *\n",
    "from llm import *\n",
    "import matplotlib.pyplot as plt\n",
    "from dotenv import load_dotenv\n",
    "import os"
   ]
  },
  {
   "cell_type": "code",
   "execution_count": 81,
   "id": "7578af27-c28a-4907-810e-219051812252",
   "metadata": {},
   "outputs": [],
   "source": [
    "def _mutate(genes, dim_uss, pm, nm):\n",
    "    idx_mutation = np.where(np.random.rand(dim_uss) <= pm)[0]\n",
    "\n",
    "    u = np.zeros((dim_uss,)) + 0.5\n",
    "    u[idx_mutation] = np.random.rand(len(idx_mutation))\n",
    "\n",
    "    delta = np.where(u < 0.5,\n",
    "        # delta_l\n",
    "        (2*u)**(1/(nm + 1)) - 1,\n",
    "        # delta_r\n",
    "        1 - (2*(1-u))**(1/(nm + 1))\n",
    "    )\n",
    "\n",
    "    return np.where(delta < 0,\n",
    "                # delta_l: ind -> 0\n",
    "                # = genes * (delta + 1)\n",
    "                genes + delta * genes,\n",
    "                # delta_r: ind -> 1\n",
    "                # = genes (1 - delta) + delta\n",
    "                genes + delta * (1 - genes)\n",
    "            )"
   ]
  },
  {
   "cell_type": "code",
   "execution_count": 82,
   "id": "abe2fd73-8f11-43e3-a0ff-c75742802152",
   "metadata": {},
   "outputs": [],
   "source": [
    "dim = 50\n",
    "x = np.random.uniform(0, 1, size=dim)"
   ]
  },
  {
   "cell_type": "code",
   "execution_count": 83,
   "id": "8d5961ee-41df-412b-b8ed-e4a557673cf0",
   "metadata": {},
   "outputs": [
    {
     "data": {
      "text/plain": [
       "array([0.26854834, 0.35699701, 0.74231291, 0.99795721, 0.88991257,\n",
       "       0.65935114, 0.56475204, 0.6454652 , 0.57536688, 0.77834449,\n",
       "       0.49352343, 0.15956432, 0.90739026, 0.9331024 , 0.25781066,\n",
       "       0.12515147, 0.84474717, 0.03180917, 0.18496433, 0.0313148 ,\n",
       "       0.86182136, 0.76091054, 0.34752336, 0.68684926, 0.42931916,\n",
       "       0.60592775, 0.36818407, 0.10443895, 0.86655817, 0.21345689,\n",
       "       0.80909621, 0.29813666, 0.82651942, 0.24371116, 0.20296531,\n",
       "       0.84959824, 0.21882989, 0.71876767, 0.34289891, 0.66666116,\n",
       "       0.63816586, 0.21820126, 0.90502834, 0.89407619, 0.47032563,\n",
       "       0.10445009, 0.15089025, 0.50659048, 0.44525065, 0.5972879 ])"
      ]
     },
     "execution_count": 83,
     "metadata": {},
     "output_type": "execute_result"
    }
   ],
   "source": [
    "x"
   ]
  },
  {
   "cell_type": "code",
   "execution_count": 94,
   "id": "8cf4df85-84ec-4520-80d8-b91166160d3c",
   "metadata": {},
   "outputs": [
    {
     "data": {
      "text/plain": [
       "array([0.26854834, 0.35699701, 0.74231291, 0.99795721, 0.88991257,\n",
       "       0.65935114, 0.56475204, 0.6454652 , 0.57536688, 0.8162265 ,\n",
       "       0.49352343, 0.15956432, 0.90739026, 0.9331024 , 0.25781066,\n",
       "       0.12515147, 0.84474717, 0.03180917, 0.18496433, 0.0313148 ,\n",
       "       0.86182136, 0.76091054, 0.34752336, 0.68684926, 0.42931916,\n",
       "       0.60592775, 0.36818407, 0.10443895, 0.86655817, 0.21345689,\n",
       "       0.80909621, 0.29813666, 0.82651942, 0.24371116, 0.20296531,\n",
       "       0.7760248 , 0.21882989, 0.71876767, 0.34289891, 0.66666116,\n",
       "       0.63816586, 0.21820126, 0.90502834, 0.89407619, 0.47032563,\n",
       "       0.10445009, 0.15089025, 0.50659048, 0.44525065, 0.5972879 ])"
      ]
     },
     "execution_count": 94,
     "metadata": {},
     "output_type": "execute_result"
    }
   ],
   "source": [
    "_mutate(x, dim, 0.02, 5)"
   ]
  },
  {
   "cell_type": "code",
   "execution_count": null,
   "id": "902e0e25-c968-4676-98e1-7a5dc2120fd6",
   "metadata": {},
   "outputs": [],
   "source": []
  },
  {
   "cell_type": "code",
   "execution_count": null,
   "id": "64e999af-47cb-41e0-869e-401f3b959c66",
   "metadata": {},
   "outputs": [],
   "source": []
  },
  {
   "cell_type": "code",
   "execution_count": null,
   "id": "925a6471-e544-42bb-ac9a-93ac4539b92b",
   "metadata": {},
   "outputs": [],
   "source": []
  }
 ],
 "metadata": {
  "kernelspec": {
   "display_name": "Python 3 (ipykernel)",
   "language": "python",
   "name": "python3"
  },
  "language_info": {
   "codemirror_mode": {
    "name": "ipython",
    "version": 3
   },
   "file_extension": ".py",
   "mimetype": "text/x-python",
   "name": "python",
   "nbconvert_exporter": "python",
   "pygments_lexer": "ipython3",
   "version": "3.9.12"
  }
 },
 "nbformat": 4,
 "nbformat_minor": 5
}
