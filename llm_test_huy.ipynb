{
 "cells": [
  {
   "cell_type": "code",
   "execution_count": 1,
   "id": "62bd74ef",
   "metadata": {},
   "outputs": [],
   "source": [
    "%load_ext autoreload\n",
    "%autoreload 2\n",
    "import numpy as np\n",
    "import pickle\n",
    "from mutation import *\n",
    "from crossover import *\n",
    "from rmp import *\n",
    "from mfea import *\n",
    "from task import *\n",
    "from llm import *\n",
    "import matplotlib.pyplot as plt\n",
    "from dotenv import load_dotenv\n",
    "import os\n",
    "import pandas as pd"
   ]
  },
  {
   "cell_type": "code",
   "execution_count": null,
   "id": "246fb04b",
   "metadata": {},
   "outputs": [],
   "source": [
    "for task_id in range(4,5):\n",
    "\tcec2017_tasks, task_name = get_2_tasks(task_id)\n",
    "\tnum_run = 10\n",
    "\tfor i in range(num_run):\n",
    "\t\tnp.random.seed(i)\n",
    "\t\tnum_indis_per_task = 100\n",
    "\t\tindi_len = 50\n",
    "\t\tmutation = PolynomialMutation(5, 1.0 / indi_len)\n",
    "\t\tcrossover = SBXCrossover(mutation, eta=2)\n",
    "\t\trmp = AdaptiveRMPMatrix(rmp_pop_size=5, num_gen=5, pc=0.8, pm=0.1)\n",
    "\t\t# rmp = NormalRMP(0.3)\n",
    "\t\tamfea = AMFEA(num_indis_per_task, indi_len, cec2017_tasks, crossover, mutation, rmp)\n",
    "\n",
    "\t\tbfs, mfs = amfea.fit(num_gen=1000, monitor=True, monitor_rate=100, llm_rate=100)\n",
    "\n",
    "\t\tdf = pd.DataFrame(bfs.T)\n",
    "\t\tdf.to_csv(\"result/\" + \"llm/\" + task_name + \"/\" + task_name + \"{0}.csv\".format(i))"
   ]
  },
  {
   "cell_type": "code",
   "execution_count": null,
   "id": "4c100f11",
   "metadata": {},
   "outputs": [],
   "source": []
  }
 ],
 "metadata": {
  "kernelspec": {
   "display_name": "Python 3",
   "language": "python",
   "name": "python3"
  },
  "language_info": {
   "codemirror_mode": {
    "name": "ipython",
    "version": 3
   },
   "file_extension": ".py",
   "mimetype": "text/x-python",
   "name": "python",
   "nbconvert_exporter": "python",
   "pygments_lexer": "ipython3",
   "version": "3.9.12"
  }
 },
 "nbformat": 4,
 "nbformat_minor": 5
}
