{
 "cells": [
  {
   "cell_type": "code",
   "execution_count": 1,
   "id": "70c6b6fd-1902-4a41-82ee-0ffe993b65ed",
   "metadata": {},
   "outputs": [],
   "source": [
    "%load_ext autoreload\n",
    "%autoreload 2\n",
    "import numpy as np\n",
    "import pickle\n",
    "from mutation import *\n",
    "from crossover import *\n",
    "from rmp import *\n",
    "from mfea import *\n",
    "from task import *\n",
    "from llm import *\n",
    "import matplotlib.pyplot as plt\n",
    "from dotenv import load_dotenv\n",
    "import os"
   ]
  },
  {
   "cell_type": "code",
   "execution_count": 2,
   "id": "7578af27-c28a-4907-810e-219051812252",
   "metadata": {},
   "outputs": [],
   "source": [
    "def _mutate(genes, dim_uss, pm, nm):\n",
    "    idx_mutation = np.where(np.random.rand(dim_uss) <= pm)[0]\n",
    "\n",
    "    u = np.zeros((dim_uss,)) + 0.5\n",
    "    u[idx_mutation] = np.random.rand(len(idx_mutation))\n",
    "\n",
    "    delta = np.where(u < 0.5,\n",
    "        # delta_l\n",
    "        (2*u)**(1/(nm + 1)) - 1,\n",
    "        # delta_r\n",
    "        1 - (2*(1-u))**(1/(nm + 1))\n",
    "    )\n",
    "\n",
    "    return np.where(delta < 0,\n",
    "                # delta_l: ind -> 0\n",
    "                # = genes * (delta + 1)\n",
    "                genes + delta * genes,\n",
    "                # delta_r: ind -> 1\n",
    "                # = genes (1 - delta) + delta\n",
    "                genes + delta * (1 - genes)\n",
    "            )"
   ]
  },
  {
   "cell_type": "code",
   "execution_count": 3,
   "id": "abe2fd73-8f11-43e3-a0ff-c75742802152",
   "metadata": {},
   "outputs": [],
   "source": [
    "dim = 50\n",
    "x = np.random.uniform(0, 1, size=dim)"
   ]
  },
  {
   "cell_type": "code",
   "execution_count": 4,
   "id": "8d5961ee-41df-412b-b8ed-e4a557673cf0",
   "metadata": {},
   "outputs": [
    {
     "data": {
      "text/plain": [
       "array([0.99018855, 0.05951667, 0.29687793, 0.92357362, 0.08568084,\n",
       "       0.85524941, 0.07055279, 0.90077335, 0.54488147, 0.62193085,\n",
       "       0.38807626, 0.48939937, 0.935219  , 0.60035485, 0.88317273,\n",
       "       0.73216711, 0.29755535, 0.67654747, 0.04812882, 0.68090822,\n",
       "       0.5420188 , 0.5480054 , 0.95512734, 0.97471169, 0.15487518,\n",
       "       0.10842618, 0.22118335, 0.05780146, 0.83563523, 0.18728424,\n",
       "       0.27444001, 0.91975364, 0.89117652, 0.5262705 , 0.84891004,\n",
       "       0.192538  , 0.77970622, 0.31471084, 0.11993691, 0.87281803,\n",
       "       0.395529  , 0.92102977, 0.99547516, 0.56230939, 0.33124808,\n",
       "       0.20684087, 0.41927536, 0.35343746, 0.06611581, 0.06283178])"
      ]
     },
     "execution_count": 4,
     "metadata": {},
     "output_type": "execute_result"
    }
   ],
   "source": [
    "x"
   ]
  },
  {
   "cell_type": "code",
   "execution_count": 161,
   "id": "8cf4df85-84ec-4520-80d8-b91166160d3c",
   "metadata": {},
   "outputs": [
    {
     "data": {
      "text/plain": [
       "array([0.80833198, 0.05951667, 0.29687793, 0.92357362, 0.08568084,\n",
       "       0.85524941, 0.07055279, 0.90077335, 0.54488147, 0.62193085,\n",
       "       0.38807626, 0.48939937, 0.935219  , 0.60035485, 0.88317273,\n",
       "       0.73216711, 0.29755535, 0.67654747, 0.04812882, 0.68090822,\n",
       "       0.5420188 , 0.5480054 , 0.95512734, 0.97471169, 0.15487518,\n",
       "       0.10842618, 0.22118335, 0.05780146, 0.83563523, 0.18728424,\n",
       "       0.27444001, 0.91975364, 0.89117652, 0.5262705 , 0.86397388,\n",
       "       0.192538  , 0.77970622, 0.31471084, 0.11993691, 0.87281803,\n",
       "       0.395529  , 0.92102977, 0.99547516, 0.56230939, 0.33124808,\n",
       "       0.20684087, 0.41927536, 0.35343746, 0.06611581, 0.06283178])"
      ]
     },
     "execution_count": 161,
     "metadata": {},
     "output_type": "execute_result"
    }
   ],
   "source": [
    "_mutate(x, dim, 0.02, 5)"
   ]
  },
  {
   "cell_type": "code",
   "execution_count": 8,
   "id": "be6f41aa",
   "metadata": {},
   "outputs": [
    {
     "name": "stdout",
     "output_type": "stream",
     "text": [
      "(array([[0.99018855, 0.05951667, 0.29687793, 0.92357362, 0.08568084,\n",
      "        0.85524941, 0.07055279, 0.90077335, 0.54488147, 0.62193085,\n",
      "        0.38807626, 0.48939937, 0.935219  , 0.60035485, 0.88317273,\n",
      "        0.73216711, 0.29755535, 0.67654747, 0.04812882, 0.68090822,\n",
      "        0.5420188 , 0.5480054 , 0.95512734, 0.97471169, 0.15487518,\n",
      "        0.10842618, 0.22118335, 0.05780146, 0.83563523, 0.18728424,\n",
      "        0.27444001, 0.91975364, 0.89117652, 0.5262705 , 0.84891004,\n",
      "        0.192538  , 0.77970622, 0.31471084, 0.11993691, 0.87281803,\n",
      "        0.395529  , 0.92102977, 0.99547516, 0.56230939, 0.33124808,\n",
      "        0.20684087, 0.41927536, 0.35343746, 0.06611581, 0.06283178]]), [1])\n"
     ]
    }
   ],
   "source": [
    "m = PolynomialMutation(5, 0.02)\n",
    "_x = m(np.array([x]), [1])\n",
    "print(_x)"
   ]
  },
  {
   "cell_type": "code",
   "execution_count": null,
   "id": "902e0e25-c968-4676-98e1-7a5dc2120fd6",
   "metadata": {},
   "outputs": [
    {
     "data": {
      "text/plain": [
       "(array([[0.69671163, 0.37938135, 0.01962877, 0.41216136, 0.37148173,\n",
       "         0.97788283, 0.02499129, 0.6005889 , 0.14764337, 0.8424088 ,\n",
       "         0.16040903, 0.39975538, 0.92898106, 0.19779657, 0.87747786,\n",
       "         0.74337398, 0.63857007, 0.80272044, 0.650271  , 0.09690072,\n",
       "         0.50361457, 0.85529208, 0.44569678, 0.30549416, 0.71785339,\n",
       "         0.72304234, 0.40479995, 0.21416901, 0.10858433, 0.79087011,\n",
       "         0.79678342, 0.23938145, 0.11359358, 0.54559259, 0.13060589,\n",
       "         0.98804945, 0.97202414, 0.90080455, 0.16478893, 0.2052706 ,\n",
       "         0.07486275, 0.2122904 , 0.26364601, 0.56276843, 0.81800329,\n",
       "         0.68333503, 0.775529  , 0.30526872, 0.42585386, 0.31985272]]),\n",
       " [1])"
      ]
     },
     "execution_count": 238,
     "metadata": {},
     "output_type": "execute_result"
    }
   ],
   "source": []
  },
  {
   "cell_type": "code",
   "execution_count": null,
   "id": "64e999af-47cb-41e0-869e-401f3b959c66",
   "metadata": {},
   "outputs": [],
   "source": []
  },
  {
   "cell_type": "code",
   "execution_count": null,
   "id": "925a6471-e544-42bb-ac9a-93ac4539b92b",
   "metadata": {},
   "outputs": [],
   "source": []
  }
 ],
 "metadata": {
  "kernelspec": {
   "display_name": "Python 3",
   "language": "python",
   "name": "python3"
  },
  "language_info": {
   "codemirror_mode": {
    "name": "ipython",
    "version": 3
   },
   "file_extension": ".py",
   "mimetype": "text/x-python",
   "name": "python",
   "nbconvert_exporter": "python",
   "pygments_lexer": "ipython3",
   "version": "3.9.12"
  }
 },
 "nbformat": 4,
 "nbformat_minor": 5
}
