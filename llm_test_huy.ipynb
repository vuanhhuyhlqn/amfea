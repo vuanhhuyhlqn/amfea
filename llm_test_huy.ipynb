{
 "cells": [
  {
   "cell_type": "code",
   "execution_count": 6,
   "id": "62bd74ef",
   "metadata": {},
   "outputs": [
    {
     "name": "stdout",
     "output_type": "stream",
     "text": [
      "The autoreload extension is already loaded. To reload it, use:\n",
      "  %reload_ext autoreload\n"
     ]
    }
   ],
   "source": [
    "%load_ext autoreload\n",
    "%autoreload 2\n",
    "import numpy as np\n",
    "import pickle\n",
    "from mutation import *\n",
    "from crossover import *\n",
    "from rmp import *\n",
    "from mfea import *\n",
    "from task import *\n",
    "from llm import *\n",
    "import matplotlib.pyplot as plt\n",
    "from dotenv import load_dotenv\n",
    "import os\n",
    "import pandas as pd"
   ]
  },
  {
   "cell_type": "code",
   "execution_count": null,
   "id": "246fb04b",
   "metadata": {},
   "outputs": [
    {
     "name": "stdout",
     "output_type": "stream",
     "text": [
      "CI_M\n",
      "Initialization:\n",
      "Task 0:\n",
      "Best Fitness: 21.40156128989089\n",
      "Mean Fitness: 21.650668236181787\n",
      "\n",
      "Task 1:\n",
      "Best Fitness: 29703.854277245966\n",
      "Mean Fitness: 42862.08212219934\n",
      "\n",
      "Gen 0\n",
      "Evaluation count: 400\n",
      "Task 0, Best: 21.40156128989089, Avg: 21.56883670328702\n",
      "Task 1, Best: 28484.293753249538, Avg: 38664.28158845532\n",
      "Time taken each gen: 49.7275 seconds\n",
      "\n",
      "Gen 100\n",
      "Evaluation count: 20400\n",
      "Task 0, Best: 19.330979078784804, Avg: 19.662396142777435\n",
      "Task 1, Best: 6347.417334125578, Avg: 6845.245220136218\n",
      "Time taken each gen: 34.3012 seconds\n",
      "\n",
      "Gen 200\n",
      "Evaluation count: 40400\n",
      "Task 0, Best: 15.445025611230662, Avg: 15.983545408461122\n",
      "Task 1, Best: 2241.924396101471, Avg: 2366.6632919049357\n",
      "Time taken each gen: 31.6122 seconds\n",
      "\n",
      "Gen 300\n",
      "Evaluation count: 60400\n",
      "Task 0, Best: 13.1051860795385, Avg: 13.398060684676786\n",
      "Task 1, Best: 1253.5867267380222, Avg: 1270.2477960702263\n",
      "Time taken each gen: 28.6366 seconds\n",
      "\n",
      "Gen 400\n",
      "Evaluation count: 80400\n",
      "Task 0, Best: 12.692938732230376, Avg: 13.215127036819247\n",
      "Task 1, Best: 1114.2911003425384, Avg: 1120.4478352876724\n",
      "Time taken each gen: 28.4875 seconds\n",
      "\n",
      "Gen 500\n",
      "Evaluation count: 100400\n",
      "Task 0, Best: 12.692938732230376, Avg: 13.131514960363306\n",
      "Task 1, Best: 1063.3212487465953, Avg: 1065.9808151330385\n",
      "Time taken each gen: 33.0637 seconds\n",
      "\n",
      "Gen 600\n",
      "Evaluation count: 120400\n",
      "Task 0, Best: 12.692938732230376, Avg: 13.105694117364092\n",
      "Task 1, Best: 1037.6327529370676, Avg: 1039.042623483762\n",
      "Time taken each gen: 39.6316 seconds\n",
      "\n",
      "Gen 700\n",
      "Evaluation count: 140400\n",
      "Task 0, Best: 12.692938732230376, Avg: 13.089883361805267\n",
      "Task 1, Best: 1017.8599212099799, Avg: 1020.1239630006628\n",
      "Time taken each gen: 38.3629 seconds\n",
      "\n",
      "Gen 800\n",
      "Evaluation count: 160400\n",
      "Task 0, Best: 12.692938732230376, Avg: 13.083920035948774\n",
      "Task 1, Best: 1003.866525657744, Avg: 1004.315265455444\n",
      "Time taken each gen: 41.7057 seconds\n",
      "\n",
      "Gen 900\n",
      "Evaluation count: 180400\n",
      "Task 0, Best: 12.692938732230376, Avg: 13.068481730683299\n",
      "Task 1, Best: 1001.4348485530062, Avg: 1001.4604052222161\n",
      "Time taken each gen: 35.4849 seconds\n",
      "\n"
     ]
    }
   ],
   "source": [
    "task_id = 1\n",
    "cec2017_tasks, task_name = get_2_tasks(task_id)\n",
    "num_run = 10\n",
    "for i in range(7, num_run):\n",
    "\tnp.random.seed(i)\n",
    "\tnum_indis_per_task = 100\n",
    "\tindi_len = 50\n",
    "\tmutation = PolynomialMutation(5, 1.0 / indi_len)\n",
    "\tcrossover = SBXCrossover(mutation, eta=2)\n",
    "\trmp = AdaptiveRMPMatrix(rmp_pop_size=5, num_gen=5, pc=0.8, pm=0.1)\n",
    "\t# rmp = NormalRMP(0.3)\n",
    "\tamfea = AMFEA(num_indis_per_task, indi_len, cec2017_tasks, crossover, mutation, rmp)\n",
    "\n",
    "\tbfs, mfs = amfea.fit(num_gen=1000, monitor=True, monitor_rate=100, llm_rate=100)\n",
    "\n",
    "\tdf = pd.DataFrame(bfs.T)\n",
    "\tdf.to_csv(\"result/\" + \"llm/\" + task_name + \"/\" + task_name + \"{0}.csv\".format(i))"
   ]
  },
  {
   "cell_type": "code",
   "execution_count": null,
   "id": "4c100f11",
   "metadata": {},
   "outputs": [],
   "source": []
  }
 ],
 "metadata": {
  "kernelspec": {
   "display_name": "Python 3",
   "language": "python",
   "name": "python3"
  },
  "language_info": {
   "codemirror_mode": {
    "name": "ipython",
    "version": 3
   },
   "file_extension": ".py",
   "mimetype": "text/x-python",
   "name": "python",
   "nbconvert_exporter": "python",
   "pygments_lexer": "ipython3",
   "version": "3.9.12"
  }
 },
 "nbformat": 4,
 "nbformat_minor": 5
}
